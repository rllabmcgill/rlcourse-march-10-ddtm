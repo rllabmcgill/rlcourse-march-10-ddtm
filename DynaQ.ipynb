{
 "cells": [
  {
   "cell_type": "markdown",
   "metadata": {
    "deletable": true,
    "editable": true
   },
   "source": [
    "# Dyna-$ Q $ and Dyna-$ Q+ $\n",
    "\n",
    "## Introduction\n",
    "\n",
    "In this homework, I'm exploring two model-based RL algorithms: **Dyna-$ Q $** and **Dyna-$ Q+ $**. Both are based on the experience replay cache holding quadruplets of the form *(current state, action, reward, next state)*. Instead of discarding an experience right after the update of the *Q-function*, Dyna reuses it over and over again as if it was actually happening. As a result, propagation of the reinforcement signal becomes more rapid (one doesn't have to wait for the next time the same *(state, action)* appearing in the real environment). Here I'm only considering the simplest case with deterministic rewards and transitions.\n",
    "\n",
    "What differentiates Dyna-$ Q+ $ from Dyna-$ Q $ is a so-called **exploration bonus**. For each (state, action), Dyna-$ Q+ $ keeps track of the number $ n(\\mbox{state}, \\mbox{action}) $ of steps since the agent experienced that pair. If the agent is in the state $ s $ then the policy is to select the action $ a $ that maximizes $ Q(s, a) + \\kappa \\sqrt{n(s, a)} $, where $ \\kappa $ is a small number. So the algorithm prefers to transition into states it visited long time ago.\n",
    "\n",
    "In order to use the full advantage of planning, Dyna-$ Q+ $ uses the exploration bonux not only in the policy, but also in the update for the $ Q $-function:\n",
    "$$ Q(s, a) \\leftarrow R + \\kappa \\sqrt{n(s, a)} + \\gamma \\max_{b} Q(y, b) \\, .$$\n",
    "\n",
    "**NOTE:** Both in the original paper by [*Sutton (1991)*](https://webdocs.cs.ualberta.ca/~sutton/papers/sutton-91-SAB.pdf) and in the book, the authors mention that they further enhance Dyna-$ Q+ $ by permitting it hypothetically experience actions it has never tried before. Although, it sounds like a minor thing, in my experiments I found this trick to be crucial for the good performance of the algorithm (it actually performs substantially worse than Dyna-$ Q $ if the trick is not used)."
   ]
  },
  {
   "cell_type": "markdown",
   "metadata": {
    "deletable": true,
    "editable": true
   },
   "source": [
    "## Some helper code"
   ]
  },
  {
   "cell_type": "code",
   "execution_count": 1,
   "metadata": {
    "collapsed": true,
    "deletable": true,
    "editable": true
   },
   "outputs": [],
   "source": [
    "%matplotlib notebook"
   ]
  },
  {
   "cell_type": "code",
   "execution_count": 2,
   "metadata": {
    "collapsed": false,
    "deletable": true,
    "editable": true
   },
   "outputs": [],
   "source": [
    "import copy\n",
    "import gym\n",
    "import itertools\n",
    "import matplotlib\n",
    "import numpy as np\n",
    "import os\n",
    "import pandas as pd\n",
    "import random\n",
    "import sys\n",
    "import time\n",
    "\n",
    "from collections import defaultdict, namedtuple\n",
    "from functools import partial\n",
    "from joblib import Parallel, delayed\n",
    "from matplotlib import pyplot as plt\n",
    "from tqdm import tqdm\n",
    "\n",
    "from lib.algos.utils import ConstantLearningRate, greedy_policy, epsilon_greedy_policy\n",
    "from lib.envs.gridworld import GridworldEnv\n",
    "from lib.plotting import EpisodeStats\n",
    "\n",
    "plt.style.use('ggplot')"
   ]
  },
  {
   "cell_type": "markdown",
   "metadata": {
    "deletable": true,
    "editable": true
   },
   "source": [
    "## Implementation of the algorithms\n"
   ]
  },
  {
   "cell_type": "code",
   "execution_count": 27,
   "metadata": {
    "collapsed": true,
    "deletable": true,
    "editable": true
   },
   "outputs": [],
   "source": [
    "from IPython.display import clear_output\n",
    "\n",
    "class DebugCallback(object):\n",
    "    def __init__(self, env):\n",
    "        self.fig, self.ax = plt.subplots(1, 3)\n",
    "        self.mpl_E = self.ax[0].imshow(np.ones((env.nrow, env.ncol, 3)))\n",
    "        self.ax[0].grid('off')\n",
    "        self.ax[0].set_title('Environment')\n",
    "        self.mpl_Q = self.ax[1].imshow(np.ones((env.nrow, env.ncol)), vmin=0.0, vmax=1.0, cmap=plt.cm.viridis)\n",
    "        self.ax[1].grid('off')\n",
    "        self.ax[1].set_title('Q')\n",
    "        self.mpl_L = self.ax[2].imshow(np.ones((env.nrow, env.ncol)), vmin=0.0, vmax=1.0, cmap=plt.cm.viridis)\n",
    "        self.ax[2].grid('off')\n",
    "        self.ax[2].set_title('Last seen')\n",
    "\n",
    "    def __call__(self, env, step, Q, last_seen=None, show_after=3000):\n",
    "        if step < show_after:\n",
    "            return\n",
    "\n",
    "        # Render environment.\n",
    "        E_viz = env.get_image()\n",
    "\n",
    "        # Render Q-function.\n",
    "        Q_viz = np.zeros(env.nrow * env.ncol)\n",
    "        for s in xrange(len(Q_viz)):\n",
    "            Q_viz[s] = np.max(Q[s])\n",
    "        Q_viz -= Q_viz.min()\n",
    "        Q_viz /= Q_viz.max()\n",
    "        Q_viz = Q_viz.reshape((env.nrow, env.ncol))\n",
    "\n",
    "        # Render last seen array.\n",
    "        if last_seen is not None:\n",
    "            L_viz = np.zeros(env.nrow * env.ncol)\n",
    "            for s in xrange(len(L_viz)):\n",
    "                L_viz[s] = max(np.max(last_seen[s]), 0.0)\n",
    "            L_viz -= L_viz.min()\n",
    "            L_viz /= L_viz.max()\n",
    "            L_viz = L_viz.reshape((env.nrow, env.ncol))\n",
    "\n",
    "        self.mpl_E.set_array(E_viz)\n",
    "        self.mpl_Q.set_array(Q_viz)\n",
    "        if last_seen is not None:\n",
    "            self.mpl_L.set_array(L_viz)\n",
    "\n",
    "        self.fig.show()\n",
    "        self.fig.canvas.draw()\n",
    "\n",
    "        time.sleep(0.05)"
   ]
  },
  {
   "cell_type": "code",
   "execution_count": 28,
   "metadata": {
    "collapsed": false,
    "deletable": true,
    "editable": true
   },
   "outputs": [],
   "source": [
    "def dyna_q(env, num_episodes, epsilon=0.1, discount_factor=0.95, alpha=ConstantLearningRate(0.1),\n",
    "           planning_steps=10, use_greedy_policy=False, use_plus=False,\n",
    "           exploration_reward_multiplier=0.001, debug_callback=None):\n",
    "    # We start with an all-zero Q-function estimate.\n",
    "    Q = defaultdict(lambda: np.zeros(env.action_space.n))\n",
    "    \n",
    "    # Keep track of useful statistics.\n",
    "    stats = EpisodeStats(\n",
    "        episode_lengths=np.zeros(num_episodes),\n",
    "        episode_rewards=np.zeros(num_episodes))\n",
    "    rewards = []\n",
    "    \n",
    "    # Define behavior policy w.r.t. the Q estimate.\n",
    "    if use_greedy_policy:\n",
    "        policy = partial(greedy_policy, Q=Q, num_actions=env.action_space.n)\n",
    "    else:\n",
    "        policy = partial(epsilon_greedy_policy, Q=Q, epsilon=epsilon, num_actions=env.action_space.n)\n",
    "    \n",
    "    # Model is just a dictionary.\n",
    "    model = {}\n",
    "    \n",
    "    if use_plus:\n",
    "        # A memory structure to keep track of how stale the (state, action) is.\n",
    "        last_seen = np.zeros((env.observation_space.n, env.action_space.n))\n",
    "        \n",
    "        def update_last_seen(state, action):\n",
    "            last_seen[:] += 1\n",
    "            last_seen[state][action] = 0\n",
    "    else:\n",
    "        last_seen = None\n",
    "\n",
    "    if use_plus:\n",
    "        # Add fictive experiences to the memory.\n",
    "        for state in xrange(env.observation_space.n):\n",
    "            for action in xrange(env.action_space.n):\n",
    "                model[(state, action)] = (0, state)\n",
    "                last_seen[state][action] = 0\n",
    "    \n",
    "    # Run episodes.\n",
    "    for episode_idx in xrange(num_episodes):  \n",
    "        state = env.reset()\n",
    "  \n",
    "        for t in itertools.count():\n",
    "        \n",
    "            def update_q(state, action, reward, next_state):\n",
    "                best_action = np.argmax(Q[next_state])\n",
    "                Q[state][action] += alpha(state, action) * (reward +\n",
    "                                                            discount_factor * Q[next_state][best_action] - \n",
    "                                                            Q[state][action])\n",
    "            \n",
    "            #############################################################\n",
    "            # Direct reinforcement learning step.\n",
    "            #############################################################\n",
    "            # Act according to the behavior policy.\n",
    "            if use_plus:\n",
    "                # Use modified Q to account for staleness of (state, action).\n",
    "                old_Q_state = Q[state]\n",
    "                staleness = np.maximum(last_seen[state], 0.0)\n",
    "                Q[state] = Q[state] + exploration_reward_multiplier * np.sqrt(staleness)\n",
    "                action_probs = policy(state)\n",
    "                Q[state] = old_Q_state\n",
    "            else:\n",
    "                action_probs = policy(state)\n",
    "            action = np.random.choice(env.action_space.n, p=action_probs)\n",
    "            next_state, reward, done, _ = env.step(action)\n",
    "            update_q(state, action, reward, next_state)\n",
    "            \n",
    "            if debug_callback is not None:\n",
    "                debug_callback(env, len(rewards), Q, last_seen)\n",
    "            \n",
    "            #############################################################\n",
    "            # Model learning step.\n",
    "            #############################################################\n",
    "            if use_plus:\n",
    "                # Add fictive observations to the model.\n",
    "                if (state, action) not in model:\n",
    "                    for i in xrange(env.action_space.n):\n",
    "                        model[(state, i)] = (0, state)\n",
    "                # Update staleness of (state, action) pairs.\n",
    "                update_last_seen(state, action)\n",
    "            # Add actual observation.\n",
    "            model[(state, action)] = (reward, next_state)\n",
    "            \n",
    "            #############################################################\n",
    "            # Planning steps.\n",
    "            #############################################################\n",
    "            for i in xrange(planning_steps):\n",
    "                if len(model) == 0:\n",
    "                    break\n",
    "                sim_state, sim_action = random.choice(model.keys())\n",
    "                sim_reward, sim_next_state = model[(sim_state, sim_action)]\n",
    "                if use_plus:\n",
    "                    # Account for staleness of the (state, action) pair.\n",
    "                    staleness = max(last_seen[sim_state][sim_action], 0.0)\n",
    "                    sim_reward += exploration_reward_multiplier * np.sqrt(staleness)\n",
    "                update_q(sim_state, sim_action, sim_reward, sim_next_state)\n",
    "            \n",
    "            # Update reward statistics.\n",
    "            stats.episode_rewards[episode_idx] += reward\n",
    "            rewards.append(reward)\n",
    "            \n",
    "            # Transition into the next state.\n",
    "            state = next_state\n",
    "            if done:\n",
    "                stats.episode_lengths[episode_idx] = t\n",
    "                break\n",
    "               \n",
    "    return Q, stats, rewards"
   ]
  },
  {
   "cell_type": "markdown",
   "metadata": {
    "deletable": true,
    "editable": true
   },
   "source": [
    "## Maze experiments\n",
    "\n",
    "One of the problems with the model-based approach is that it tends underperform in changing environments. This is due to the model dynamics used in the planning process becoming incorrect. In order to illustrate the problem, I'm going to reproduce two experiments from [*Sutton (1991)*](https://webdocs.cs.ualberta.ca/~sutton/papers/sutton-91-SAB.pdf), namely, **blocking** and **shortcut** mazes. In both cases, the hyperparameters are taken from the paper. Behavior policy is chosen to be greedy."
   ]
  },
  {
   "cell_type": "code",
   "execution_count": null,
   "metadata": {
    "collapsed": true
   },
   "outputs": [],
   "source": [
    "from gym.envs.toy_text import discrete\n",
    "\n",
    "class SwitchingEnv(discrete.DiscreteEnv):\n",
    "    '''A meta-environment that switches between two given environments after a certain number of steps.'''\n",
    "    def __init__(self, env1, env2, switch_after=1000):\n",
    "        self.env1 = env1\n",
    "        self.env2 = env2\n",
    "        self.switch_after = switch_after\n",
    "        self.reset_switch()\n",
    "        \n",
    "    @property\n",
    "    def nrow(self):\n",
    "        return self.cur_env.nrow\n",
    "    \n",
    "    @property\n",
    "    def ncol(self):\n",
    "        return self.cur_env.ncol\n",
    "        \n",
    "    @property\n",
    "    def action_space(self):\n",
    "        return self.cur_env.action_space\n",
    "    \n",
    "    @property\n",
    "    def observation_space(self):\n",
    "        return self.cur_env.observation_space\n",
    "        \n",
    "    def step(self, *args, **kwargs):\n",
    "        self.num_steps += 1\n",
    "        next_state, reward, done, _ = self.cur_env.step(*args, **kwargs)\n",
    "        if self.num_steps == self.switch_after:\n",
    "            self.cur_env = self.env2\n",
    "            done = True            \n",
    "        return next_state, reward, done, _\n",
    "    \n",
    "    def reset(self):\n",
    "        return self.cur_env.reset()\n",
    "    \n",
    "    def reset_switch(self):\n",
    "        self.cur_env = env1\n",
    "        self.num_steps = 0\n",
    "        \n",
    "    def get_image(self, *args, **kwargs):\n",
    "        return self.cur_env.get_image(*args, **kwargs)\n",
    "    \n",
    "    def render(self, *args, **kwargs):\n",
    "        self.cur_env.render(*args, **kwargs)"
   ]
  },
  {
   "cell_type": "markdown",
   "metadata": {
    "deletable": true,
    "editable": true
   },
   "source": [
    "### Blocking maze"
   ]
  },
  {
   "cell_type": "markdown",
   "metadata": {
    "collapsed": true,
    "deletable": true,
    "editable": true
   },
   "source": [
    "In the **blocking** problem, after the agent has learned the optimal path from start to goal (I assume, **1000** steps is enough), a new barrier is added that blocks the optimal path."
   ]
  },
  {
   "cell_type": "code",
   "execution_count": 32,
   "metadata": {
    "collapsed": true,
    "deletable": true,
    "editable": true
   },
   "outputs": [],
   "source": [
    "map1 = [\n",
    "    \"ooooooooG\",\n",
    "    \"ooooooooo\",\n",
    "    \"ooooooooo\",\n",
    "    \"WWWWWWWWo\",\n",
    "    \"ooooooooo\",\n",
    "    \"oooSooooo\",\n",
    "]\n",
    "env1 = GridworldEnv(map1)\n",
    "\n",
    "map2 = [\n",
    "    \"ooooooooG\",\n",
    "    \"ooooooooo\",\n",
    "    \"ooooooooo\",\n",
    "    \"oWWWWWWWW\",\n",
    "    \"ooooooooo\",\n",
    "    \"oooSooooo\",\n",
    "]\n",
    "env2 = GridworldEnv(map2)\n",
    "\n",
    "env = SwitchingEnv(env1, env2, switch_after=1000)"
   ]
  },
  {
   "cell_type": "code",
   "execution_count": 33,
   "metadata": {
    "collapsed": false,
    "deletable": true,
    "editable": true
   },
   "outputs": [],
   "source": [
    "num_trials = 40\n",
    "num_episodes = 100\n",
    "epsilon = 0.1\n",
    "discount_factor = 0.9\n",
    "planning_steps = 10\n",
    "alpha = 0.5\n",
    "exploration_reward_multiplier = 0.001\n",
    "\n",
    "configs = {\n",
    "    'algo': ['no_plan', 'dyna_q', 'dyna_q_plus']\n",
    "}\n",
    "\n",
    "def job(seed, algo):\n",
    "    np.random.seed(seed=seed)\n",
    "    random.seed(seed)\n",
    "    env.reset_switch()\n",
    "    if algo == 'no_plan':\n",
    "        _, _, rewards = dyna_q(env, num_episodes, epsilon=epsilon, planning_steps=0,\n",
    "                               discount_factor=discount_factor, alpha=ConstantLearningRate(alpha))\n",
    "    elif algo == 'dyna_q':\n",
    "        _, _, rewards = dyna_q(env, num_episodes, epsilon=epsilon, planning_steps=planning_steps,\n",
    "                               discount_factor=discount_factor, alpha=ConstantLearningRate(alpha))\n",
    "    else:  # 'dyna_q_plus'\n",
    "        _, _, rewards = dyna_q(env, num_episodes, epsilon=epsilon, planning_steps=planning_steps,\n",
    "                               discount_factor=discount_factor, alpha=ConstantLearningRate(alpha),\n",
    "                               use_plus=True, exploration_reward_multiplier=exploration_reward_multiplier)\n",
    "    return rewards\n",
    "\n",
    "for v in itertools.product(*configs.values()):\n",
    "    config = dict(zip(configs.keys(), v))\n",
    "    name = '{algo}'.format(**config)\n",
    "    filename = 'results/{}_block.npy'.format(name)\n",
    "    if os.path.exists(filename):\n",
    "        continue\n",
    "    rewards = Parallel(n_jobs=8)(\n",
    "        [delayed(job)(s, **config) for s in np.random.randint(0, num_trials * 1000, num_trials)])\n",
    "    np.save(filename, rewards)"
   ]
  },
  {
   "cell_type": "code",
   "execution_count": 34,
   "metadata": {
    "collapsed": false,
    "deletable": true,
    "editable": true
   },
   "outputs": [],
   "source": [
    "all_mean_cumulative_rewards = {}\n",
    "for v in itertools.product(*configs.values()):\n",
    "    config = dict(zip(configs.keys(), v))\n",
    "    name = '{algo}'.format(**config)\n",
    "    filename = 'results/{}_block.npy'.format(name)\n",
    "    rewards = np.load(filename)\n",
    "    min_length = min(min(len(x) for x in rewards), 2000)\n",
    "    rewards = np.array([x[: min_length] for x in rewards])\n",
    "    mean_cumulative_rewards = np.mean(np.cumsum(rewards, axis=1), axis=0)\n",
    "    all_mean_cumulative_rewards[config['algo']] = mean_cumulative_rewards"
   ]
  },
  {
   "cell_type": "code",
   "execution_count": 35,
   "metadata": {
    "collapsed": false,
    "deletable": true,
    "editable": true
   },
   "outputs": [
    {
     "data": {
      "image/png": "[encoded data removed]",
      "text/plain": [
       "<matplotlib.figure.Figure at 0x10cbc7190>"
      ]
     },
     "metadata": {},
     "output_type": "display_data"
    }
   ],
   "source": [
    "fig = plt.figure(figsize=(10, 8))\n",
    "    \n",
    "plt.plot(all_mean_cumulative_rewards['no_plan'], label='No planning')\n",
    "plt.plot(all_mean_cumulative_rewards['dyna_q'], label='Dyna-$ Q $')\n",
    "plt.plot(all_mean_cumulative_rewards['dyna_q_plus'], label='Dyna-$ Q\\!+ $')\n",
    "\n",
    "plt.xlabel('$ Steps $')\n",
    "plt.ylabel(\"Average cumulative reward\")\n",
    "plt.legend()\n",
    "\n",
    "plt.show(fig)"
   ]
  },
  {
   "cell_type": "markdown",
   "metadata": {},
   "source": [
    "As we can see, both Dyna algorithms outperformed the non-planning agent and found the long path to the goal. Interestingly, Dyna-$ Q+ $ does a substantially better job. I suspect this is due to the presence of the exploration bonus. Indeed, Dyna-$ Q $'s exploration is only driven by the $ Q $-function which does not provide much information about the optimal path in the very beginning of the training process. It might lead to the situation when the agent spends too much time doing random actions in the dead-end part of the maze. Dyna-$ Q+ $, on the other hand, is encouraged to visit the states which it has never been to or visited long time ago. That results in the agent trying to visit all the states in the vicinity of the start state at least once as quickly as possible. Obviously, one of those state is right next to the escape, and therefore, the Dyna-$ Q+ $ spends less time trying to reach the upper part of the maze. "
   ]
  },
  {
   "cell_type": "markdown",
   "metadata": {
    "deletable": true,
    "editable": true
   },
   "source": [
    "### Shortcut maze\n",
    "\n",
    "In this experiment, after the algorithms found the optimal policy, a shortcut to the goal is added (one of the barriers is removed). This setting is a bit trickier for Dyna-$ Q $ as the original optimal policy stays a valid strategy for reaching the destination. "
   ]
  },
  {
   "cell_type": "code",
   "execution_count": 31,
   "metadata": {
    "collapsed": false,
    "deletable": true,
    "editable": true
   },
   "outputs": [],
   "source": [
    "map1 = [\n",
    "    \"ooooooooG\",\n",
    "    \"ooooooooo\",\n",
    "    \"ooooooooo\",\n",
    "    \"oWWWWWWWW\",\n",
    "    \"ooooooooo\",\n",
    "    \"oooSooooo\",\n",
    "]\n",
    "env1 = GridworldEnv(map1)\n",
    "\n",
    "map2 = [\n",
    "    \"ooooooooG\",\n",
    "    \"ooooooooo\",\n",
    "    \"ooooooooo\",\n",
    "    \"oWWWWWWWo\",\n",
    "    \"ooooooooo\",\n",
    "    \"oooSooooo\",\n",
    "]\n",
    "env2 = GridworldEnv(map2)\n",
    "\n",
    "env = SwitchingEnv(env1, env2, switch_after=3000)"
   ]
  },
  {
   "cell_type": "code",
   "execution_count": 29,
   "metadata": {
    "collapsed": true,
    "deletable": true,
    "editable": true
   },
   "outputs": [],
   "source": [
    "num_trials = 40\n",
    "num_episodes = 300\n",
    "epsilon = 0.1\n",
    "discount_factor = 0.9\n",
    "planning_steps = 10\n",
    "alpha = 0.5\n",
    "exploration_reward_multiplier = 0.001\n",
    "\n",
    "configs = {\n",
    "    'algo': ['no_plan', 'dyna_q', 'dyna_q_plus']\n",
    "}\n",
    "\n",
    "def job(seed, algo):\n",
    "    np.random.seed(seed=seed)\n",
    "    random.seed(seed)\n",
    "    env.reset_switch()\n",
    "    if algo == 'no_plan':\n",
    "        _, _, rewards = dyna_q(env, num_episodes, epsilon=epsilon, planning_steps=0,\n",
    "                               discount_factor=discount_factor, alpha=ConstantLearningRate(alpha))\n",
    "    elif algo == 'dyna_q':\n",
    "        _, _, rewards = dyna_q(env, num_episodes, epsilon=epsilon, planning_steps=planning_steps,\n",
    "                               discount_factor=discount_factor, alpha=ConstantLearningRate(alpha),\n",
    "                               use_greedy_policy=True)\n",
    "    else:  # 'dyna_q_plus'\n",
    "        _, _, rewards = dyna_q(env, num_episodes, epsilon=epsilon, planning_steps=planning_steps,\n",
    "                               discount_factor=discount_factor, alpha=ConstantLearningRate(alpha),\n",
    "                               use_plus=True, exploration_reward_multiplier=exploration_reward_multiplier,\n",
    "                               use_greedy_policy=True)\n",
    "    return rewards\n",
    "\n",
    "for v in itertools.product(*configs.values()):\n",
    "    config = dict(zip(configs.keys(), v))\n",
    "    name = '{algo}'.format(**config)\n",
    "    filename = 'results/{}_short.npy'.format(name)\n",
    "    if os.path.exists(filename):\n",
    "        continue\n",
    "    rewards = Parallel(n_jobs=8)(\n",
    "        [delayed(job)(s, **config) for s in np.random.randint(0, num_trials * 1000, num_trials)])\n",
    "    np.save(filename, rewards)"
   ]
  },
  {
   "cell_type": "code",
   "execution_count": 30,
   "metadata": {
    "collapsed": true,
    "deletable": true,
    "editable": true
   },
   "outputs": [],
   "source": [
    "all_mean_cumulative_rewards = {}\n",
    "for v in itertools.product(*configs.values()):\n",
    "    config = dict(zip(configs.keys(), v))\n",
    "    name = '{algo}'.format(**config)\n",
    "    filename = 'results/{}_short.npy'.format(name)\n",
    "    rewards = np.load(filename)\n",
    "    min_length = min(min(len(x) for x in rewards), 6000)\n",
    "    rewards = np.array([x[: min_length] for x in rewards])\n",
    "    mean_cumulative_rewards = np.mean(np.cumsum(rewards, axis=1), axis=0)\n",
    "    all_mean_cumulative_rewards[config['algo']] = mean_cumulative_rewards"
   ]
  },
  {
   "cell_type": "code",
   "execution_count": 31,
   "metadata": {
    "collapsed": false,
    "deletable": true,
    "editable": true,
    "scrolled": false
   },
   "outputs": [
    {
     "data": {
      "image/png": "[encoded data removed]",
      "text/plain": [
       "<matplotlib.figure.Figure at 0x10c649d50>"
      ]
     },
     "metadata": {},
     "output_type": "display_data"
    }
   ],
   "source": [
    "fig = plt.figure(figsize=(10, 8))\n",
    "    \n",
    "plt.plot(all_mean_cumulative_rewards['no_plan'], label='No planning')\n",
    "plt.plot(all_mean_cumulative_rewards['dyna_q'], label='Dyna-$ Q $')\n",
    "plt.plot(all_mean_cumulative_rewards['dyna_q_plus'], label='Dyna-$ Q\\!+ $')\n",
    "\n",
    "plt.xlabel('$ Steps $')\n",
    "plt.ylabel(\"Average cumulative reward\")\n",
    "plt.legend()\n",
    "\n",
    "plt.show(fig)"
   ]
  },
  {
   "cell_type": "markdown",
   "metadata": {},
   "source": [
    "As we can see, in this experiment, Dyna-$ Q $ fails to find the shortcut and keeps using the long path the goal, while both Dyna-$ Q+ $ and the non-planning agent discovered the optimal trajectory. That is to be expected as there is no incentive for Dyna-$ Q $ to change the strategy once it has found *some* way to reach the goal (**reminder:** behavior policy is greedy). A close inspection of the curves above reveals that the difference between Dyna-$ Q+ $ and Dyna-$ Q $ narrowed slightly over the first part of the experiment. I think this is due to exploratory behavior of the former algorithm — it keeps visiting the dead-end from time to time despite the fact that the optimal path has been found already."
   ]
  },
  {
   "cell_type": "markdown",
   "metadata": {
    "collapsed": true,
    "deletable": true,
    "editable": true
   },
   "source": [
    "### Live demo of Dyna-$ Q+ $"
   ]
  },
  {
   "cell_type": "code",
   "execution_count": null,
   "metadata": {
    "collapsed": true,
    "deletable": true,
    "editable": true
   },
   "outputs": [],
   "source": [
    "env.reset_switch()\n",
    "_, _, rewards = dyna_q(env, 300, epsilon=0.1, planning_steps=10, discount_factor=0.9,\n",
    "                       alpha=ConstantLearningRate(0.5), use_greedy_policy=True,\n",
    "                       use_plus=True, debug_callback=DebugCallback(env))"
   ]
  }
 ],
 "metadata": {
  "kernelspec": {
   "display_name": "Python 2",
   "language": "python",
   "name": "python2"
  },
  "language_info": {
   "codemirror_mode": {
    "name": "ipython",
    "version": 2
   },
   "file_extension": ".py",
   "mimetype": "text/x-python",
   "name": "python",
   "nbconvert_exporter": "python",
   "pygments_lexer": "ipython2",
   "version": "2.7.13"
  }
 },
 "nbformat": 4,
 "nbformat_minor": 2
}
